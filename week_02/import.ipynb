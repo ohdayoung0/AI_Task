{
  "nbformat": 4,
  "nbformat_minor": 0,
  "metadata": {
    "colab": {
      "provenance": [],
      "gpuType": "T4",
      "authorship_tag": "ABX9TyM1g+J4euTtxMzbxT3UEmcY",
      "include_colab_link": true
    },
    "kernelspec": {
      "name": "python3",
      "display_name": "Python 3"
    },
    "language_info": {
      "name": "python"
    },
    "accelerator": "GPU"
  },
  "cells": [
    {
      "cell_type": "markdown",
      "metadata": {
        "id": "view-in-github",
        "colab_type": "text"
      },
      "source": [
        "<a href=\"https://colab.research.google.com/github/ohdayoung0/AI_Task/blob/main/Untitled3.ipynb\" target=\"_parent\"><img src=\"https://colab.research.google.com/assets/colab-badge.svg\" alt=\"Open In Colab\"/></a>"
      ]
    },
    {
      "cell_type": "code",
      "execution_count": 1,
      "metadata": {
        "id": "1pjOAP-QCZ01",
        "colab": {
          "base_uri": "https://localhost:8080/"
        },
        "outputId": "3e02f255-d8f4-4ac8-cdc6-c84969a3360a"
      },
      "outputs": [
        {
          "output_type": "stream",
          "name": "stdout",
          "text": [
            "✓ PyTorch is successfully imported!\n",
            "PyTorch version: 2.8.0+cu126\n",
            "✓ CUDA is available! Device count: 1\n",
            "Current CUDA device: Tesla T4\n",
            "✓ Test tensor created: tensor([1, 2, 3, 4, 5], device='cuda:0')\n",
            "Tensor shape: torch.Size([5])\n",
            "Tensor device: cuda:0\n",
            "✓ Basic operation test (squaring): tensor([ 1,  4,  9, 16, 25], device='cuda:0')\n",
            "\n",
            "🎉 PyTorch is working correctly!\n"
          ]
        }
      ],
      "source": [
        "# Check if PyTorch is available and import it\n",
        "try:\n",
        "    import torch\n",
        "    print(\"✓ PyTorch is successfully imported!\")\n",
        "    print(f\"PyTorch version: {torch.__version__}\")\n",
        "\n",
        "    # 사용할 장치 설정 (GPU 우선)\n",
        "    device = torch.device(\"cuda\" if torch.cuda.is_available() else \"cpu\")\n",
        "\n",
        "    # Check if CUDA is available\n",
        "    if torch.cuda.is_available():\n",
        "        print(f\"✓ CUDA is available! Device count: {torch.cuda.device_count()}\")\n",
        "        print(f\"Current CUDA device: {torch.cuda.get_device_name(0)}\")\n",
        "    else:\n",
        "        print(\"CUDA is not available. Using CPU.\")\n",
        "\n",
        "    # Create a simple tensor and MOVE IT TO THE GPU\n",
        "    test_tensor = torch.tensor([1, 2, 3, 4, 5]).to(device)\n",
        "\n",
        "    print(f\"✓ Test tensor created: {test_tensor}\")\n",
        "    print(f\"Tensor shape: {test_tensor.shape}\")\n",
        "    print(f\"Tensor device: {test_tensor.device}\") # 'cuda:0'으로 출력되는지 확인!\n",
        "\n",
        "    # Basic tensor operation (on the GPU)\n",
        "    squared_tensor = test_tensor ** 2\n",
        "    print(f\"✓ Basic operation test (squaring): {squared_tensor}\")\n",
        "\n",
        "    print(f\"\\n🎉 PyTorch is working correctly!\")\n",
        "\n",
        "except ImportError as e:\n",
        "    print(\"❌ PyTorch is not installed or not available\")\n",
        "    print(f\"Error details: {e}\")\n",
        "    print(\"Please install PyTorch using: pip install torch\")\n",
        "\n",
        "except Exception as e:\n",
        "    print(f\"❌ An error occurred while testing PyTorch: {e}\")"
      ]
    }
  ]
}
